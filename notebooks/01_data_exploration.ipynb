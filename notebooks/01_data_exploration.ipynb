{
 "cells": [
  {
   "cell_type": "markdown",
   "id": "70cc909b",
   "metadata": {},
   "source": [
    "## Exploring the Spider dataset for text-to-SQL generation "
   ]
  },
  {
   "cell_type": "code",
   "execution_count": 12,
   "id": "c41faff8",
   "metadata": {},
   "outputs": [],
   "source": [
    "import pandas as pd\n",
    "import numpy as np\n",
    "from datasets import load_dataset\n",
    "import seaborn as sns\n",
    "import matplotlib.pyplot as plt\n",
    "\n"
   ]
  },
  {
   "cell_type": "markdown",
   "id": "791fb445",
   "metadata": {},
   "source": [
    "## Load Dataset\n",
    "\n",
    "Load a small subset of the Spider dataset for fast experimentation.  "
   ]
  },
  {
   "cell_type": "code",
   "execution_count": 6,
   "id": "983e935e",
   "metadata": {},
   "outputs": [
    {
     "data": {
      "application/vnd.jupyter.widget-view+json": {
       "model_id": "6c9096d005724e929bf2421e19707d51",
       "version_major": 2,
       "version_minor": 0
      },
      "text/plain": [
       "README.md: 0.00B [00:00, ?B/s]"
      ]
     },
     "metadata": {},
     "output_type": "display_data"
    },
    {
     "name": "stderr",
     "output_type": "stream",
     "text": [
      "c:\\Users\\joeto\\anaconda3\\envs\\tp\\lib\\site-packages\\huggingface_hub\\file_download.py:140: UserWarning: `huggingface_hub` cache-system uses symlinks by default to efficiently store duplicated files but your machine does not support them in C:\\Users\\joeto\\.cache\\huggingface\\hub\\datasets--spider. Caching files will still work but in a degraded version that might require more space on your disk. This warning can be disabled by setting the `HF_HUB_DISABLE_SYMLINKS_WARNING` environment variable. For more details, see https://huggingface.co/docs/huggingface_hub/how-to-cache#limitations.\n",
      "To support symlinks on Windows, you either need to activate Developer Mode or to run Python as an administrator. In order to activate developer mode, see this article: https://docs.microsoft.com/en-us/windows/apps/get-started/enable-your-device-for-development\n",
      "  warnings.warn(message)\n"
     ]
    },
    {
     "data": {
      "application/vnd.jupyter.widget-view+json": {
       "model_id": "4868e88dacf346d18ef3fcebb731c523",
       "version_major": 2,
       "version_minor": 0
      },
      "text/plain": [
       "train-00000-of-00001.parquet:   0%|          | 0.00/831k [00:00<?, ?B/s]"
      ]
     },
     "metadata": {},
     "output_type": "display_data"
    },
    {
     "data": {
      "application/vnd.jupyter.widget-view+json": {
       "model_id": "55715684667243068b5e201e1f483d5c",
       "version_major": 2,
       "version_minor": 0
      },
      "text/plain": [
       "validation-00000-of-00001.parquet:   0%|          | 0.00/126k [00:00<?, ?B/s]"
      ]
     },
     "metadata": {},
     "output_type": "display_data"
    },
    {
     "data": {
      "application/vnd.jupyter.widget-view+json": {
       "model_id": "c65b63132014498dbf8104422e62d3c2",
       "version_major": 2,
       "version_minor": 0
      },
      "text/plain": [
       "Generating train split:   0%|          | 0/7000 [00:00<?, ? examples/s]"
      ]
     },
     "metadata": {},
     "output_type": "display_data"
    },
    {
     "data": {
      "application/vnd.jupyter.widget-view+json": {
       "model_id": "756e45ca347e4631bfb8620f215d1cf7",
       "version_major": 2,
       "version_minor": 0
      },
      "text/plain": [
       "Generating validation split:   0%|          | 0/1034 [00:00<?, ? examples/s]"
      ]
     },
     "metadata": {},
     "output_type": "display_data"
    },
    {
     "name": "stdout",
     "output_type": "stream",
     "text": [
      "Dataset sample:\n",
      "{'db_id': 'department_management', 'query': 'SELECT count(*) FROM head WHERE age  >  56', 'question': 'How many heads of the departments are older than 56 ?', 'query_toks': ['SELECT', 'count', '(', '*', ')', 'FROM', 'head', 'WHERE', 'age', '>', '56'], 'query_toks_no_value': ['select', 'count', '(', '*', ')', 'from', 'head', 'where', 'age', '>', 'value'], 'question_toks': ['How', 'many', 'heads', 'of', 'the', 'departments', 'are', 'older', 'than', '56', '?']}\n",
      "Total samples in subset: 70\n",
      "                   db_id                                              query  \\\n",
      "0  department_management         SELECT count(*) FROM head WHERE age  >  56   \n",
      "1  department_management  SELECT name ,  born_state ,  age FROM head ORD...   \n",
      "2  department_management  SELECT creation ,  name ,  budget_in_billions ...   \n",
      "3  department_management  SELECT max(budget_in_billions) ,  min(budget_i...   \n",
      "4  department_management  SELECT avg(num_employees) FROM department WHER...   \n",
      "\n",
      "                                            question  \\\n",
      "0  How many heads of the departments are older th...   \n",
      "1  List the name, born state and age of the heads...   \n",
      "2  List the creation year, name and budget of eac...   \n",
      "3  What are the maximum and minimum budget of the...   \n",
      "4  What is the average number of employees of the...   \n",
      "\n",
      "                                          query_toks  \\\n",
      "0  [SELECT, count, (, *, ), FROM, head, WHERE, ag...   \n",
      "1  [SELECT, name, ,, born_state, ,, age, FROM, he...   \n",
      "2  [SELECT, creation, ,, name, ,, budget_in_billi...   \n",
      "3  [SELECT, max, (, budget_in_billions, ), ,, min...   \n",
      "4  [SELECT, avg, (, num_employees, ), FROM, depar...   \n",
      "\n",
      "                                 query_toks_no_value  \\\n",
      "0  [select, count, (, *, ), from, head, where, ag...   \n",
      "1  [select, name, ,, born_state, ,, age, from, he...   \n",
      "2  [select, creation, ,, name, ,, budget_in_billi...   \n",
      "3  [select, max, (, budget_in_billions, ), ,, min...   \n",
      "4  [select, avg, (, num_employees, ), from, depar...   \n",
      "\n",
      "                                       question_toks  \n",
      "0  [How, many, heads, of, the, departments, are, ...  \n",
      "1  [List, the, name, ,, born, state, and, age, of...  \n",
      "2  [List, the, creation, year, ,, name, and, budg...  \n",
      "3  [What, are, the, maximum, and, minimum, budget...  \n",
      "4  [What, is, the, average, number, of, employees...  \n"
     ]
    }
   ],
   "source": [
    "\n",
    "\n",
    "# Load Spider dataset\n",
    "# This will download a small test subset first for fast experimentation\n",
    "dataset = load_dataset(\"spider\", split=\"train[:1%]\")  # 1% for quick testing\n",
    "\n",
    "# Explore the dataset\n",
    "print(\"Dataset sample:\")\n",
    "print(dataset[0])\n",
    "\n",
    "# Check the number of samples\n",
    "print(f\"Total samples in subset: {len(dataset)}\")\n",
    "\n",
    "# Convert to pandas DataFrame for easy inspection (optional)\n",
    "df = pd.DataFrame(dataset)\n",
    "print(df.head())"
   ]
  },
  {
   "cell_type": "code",
   "execution_count": 8,
   "id": "5bb0067a",
   "metadata": {},
   "outputs": [
    {
     "name": "stdout",
     "output_type": "stream",
     "text": [
      "Columns: ['db_id', 'query', 'question', 'query_toks', 'query_toks_no_value', 'question_toks']\n"
     ]
    },
    {
     "data": {
      "text/html": [
       "<div>\n",
       "<style scoped>\n",
       "    .dataframe tbody tr th:only-of-type {\n",
       "        vertical-align: middle;\n",
       "    }\n",
       "\n",
       "    .dataframe tbody tr th {\n",
       "        vertical-align: top;\n",
       "    }\n",
       "\n",
       "    .dataframe thead th {\n",
       "        text-align: right;\n",
       "    }\n",
       "</style>\n",
       "<table border=\"1\" class=\"dataframe\">\n",
       "  <thead>\n",
       "    <tr style=\"text-align: right;\">\n",
       "      <th></th>\n",
       "      <th>db_id</th>\n",
       "      <th>query</th>\n",
       "      <th>question</th>\n",
       "      <th>query_toks</th>\n",
       "      <th>query_toks_no_value</th>\n",
       "      <th>question_toks</th>\n",
       "    </tr>\n",
       "  </thead>\n",
       "  <tbody>\n",
       "    <tr>\n",
       "      <th>25</th>\n",
       "      <td>farm</td>\n",
       "      <td>SELECT avg(Working_Horses) FROM farm WHERE Tot...</td>\n",
       "      <td>Give the average number of working horses on f...</td>\n",
       "      <td>[SELECT, avg, (, Working_Horses, ), FROM, farm...</td>\n",
       "      <td>[select, avg, (, working_horses, ), from, farm...</td>\n",
       "      <td>[Give, the, average, number, of, working, hors...</td>\n",
       "    </tr>\n",
       "    <tr>\n",
       "      <th>57</th>\n",
       "      <td>student_assessment</td>\n",
       "      <td>SELECT T1.course_name FROM courses AS T1 JOIN ...</td>\n",
       "      <td>What is the name of the course with the most r...</td>\n",
       "      <td>[SELECT, T1.course_name, FROM, courses, AS, T1...</td>\n",
       "      <td>[select, t1, ., course_name, from, courses, as...</td>\n",
       "      <td>[What, is, the, name, of, the, course, with, t...</td>\n",
       "    </tr>\n",
       "    <tr>\n",
       "      <th>15</th>\n",
       "      <td>department_management</td>\n",
       "      <td>SELECT head_id ,  name FROM head WHERE name LI...</td>\n",
       "      <td>Which head's name has the substring 'Ha'? List...</td>\n",
       "      <td>[SELECT, head_id, ,, name, FROM, head, WHERE, ...</td>\n",
       "      <td>[select, head_id, ,, name, from, head, where, ...</td>\n",
       "      <td>[Which, head, 's, name, has, the, substring, '...</td>\n",
       "    </tr>\n",
       "    <tr>\n",
       "      <th>60</th>\n",
       "      <td>student_assessment</td>\n",
       "      <td>SELECT T2.first_name ,  T2.last_name FROM cand...</td>\n",
       "      <td>what are the first name and last name of all c...</td>\n",
       "      <td>[SELECT, T2.first_name, ,, T2.last_name, FROM,...</td>\n",
       "      <td>[select, t2, ., first_name, ,, t2, ., last_nam...</td>\n",
       "      <td>[what, are, the, first, name, and, last, name,...</td>\n",
       "    </tr>\n",
       "    <tr>\n",
       "      <th>63</th>\n",
       "      <td>student_assessment</td>\n",
       "      <td>SELECT student_id FROM students WHERE student_...</td>\n",
       "      <td>What are the  ids of every student who has nev...</td>\n",
       "      <td>[SELECT, student_id, FROM, students, WHERE, st...</td>\n",
       "      <td>[select, student_id, from, students, where, st...</td>\n",
       "      <td>[What, are, the, ids, of, every, student, who,...</td>\n",
       "    </tr>\n",
       "  </tbody>\n",
       "</table>\n",
       "</div>"
      ],
      "text/plain": [
       "                    db_id                                              query  \\\n",
       "25                   farm  SELECT avg(Working_Horses) FROM farm WHERE Tot...   \n",
       "57     student_assessment  SELECT T1.course_name FROM courses AS T1 JOIN ...   \n",
       "15  department_management  SELECT head_id ,  name FROM head WHERE name LI...   \n",
       "60     student_assessment  SELECT T2.first_name ,  T2.last_name FROM cand...   \n",
       "63     student_assessment  SELECT student_id FROM students WHERE student_...   \n",
       "\n",
       "                                             question  \\\n",
       "25  Give the average number of working horses on f...   \n",
       "57  What is the name of the course with the most r...   \n",
       "15  Which head's name has the substring 'Ha'? List...   \n",
       "60  what are the first name and last name of all c...   \n",
       "63  What are the  ids of every student who has nev...   \n",
       "\n",
       "                                           query_toks  \\\n",
       "25  [SELECT, avg, (, Working_Horses, ), FROM, farm...   \n",
       "57  [SELECT, T1.course_name, FROM, courses, AS, T1...   \n",
       "15  [SELECT, head_id, ,, name, FROM, head, WHERE, ...   \n",
       "60  [SELECT, T2.first_name, ,, T2.last_name, FROM,...   \n",
       "63  [SELECT, student_id, FROM, students, WHERE, st...   \n",
       "\n",
       "                                  query_toks_no_value  \\\n",
       "25  [select, avg, (, working_horses, ), from, farm...   \n",
       "57  [select, t1, ., course_name, from, courses, as...   \n",
       "15  [select, head_id, ,, name, from, head, where, ...   \n",
       "60  [select, t2, ., first_name, ,, t2, ., last_nam...   \n",
       "63  [select, student_id, from, students, where, st...   \n",
       "\n",
       "                                        question_toks  \n",
       "25  [Give, the, average, number, of, working, hors...  \n",
       "57  [What, is, the, name, of, the, course, with, t...  \n",
       "15  [Which, head, 's, name, has, the, substring, '...  \n",
       "60  [what, are, the, first, name, and, last, name,...  \n",
       "63  [What, are, the, ids, of, every, student, who,...  "
      ]
     },
     "execution_count": 8,
     "metadata": {},
     "output_type": "execute_result"
    }
   ],
   "source": [
    "print(\"Columns:\", df.columns.tolist())\n",
    "df.sample(5)\n"
   ]
  },
  {
   "cell_type": "code",
   "execution_count": 13,
   "id": "0416601d",
   "metadata": {},
   "outputs": [
    {
     "data": {
      "image/png": "[encoded data removed]",
      "text/plain": [
       "<Figure size 640x480 with 1 Axes>"
      ]
     },
     "metadata": {},
     "output_type": "display_data"
    }
   ],
   "source": [
    "df['query_length'] = df['query'].apply(lambda x: len(x.split()))\n",
    "df['question_length'] = df['question'].apply(lambda x: len(x.split()))\n",
    "\n",
    "sns.histplot(df['query_length'], bins=20, kde=True)\n",
    "plt.title(\"Query Length Distribution\")\n",
    "plt.show()\n"
   ]
  },
  {
   "cell_type": "code",
   "execution_count": 14,
   "id": "cf024a92",
   "metadata": {},
   "outputs": [
    {
     "data": {
      "text/html": [
       "<div>\n",
       "<style scoped>\n",
       "    .dataframe tbody tr th:only-of-type {\n",
       "        vertical-align: middle;\n",
       "    }\n",
       "\n",
       "    .dataframe tbody tr th {\n",
       "        vertical-align: top;\n",
       "    }\n",
       "\n",
       "    .dataframe thead th {\n",
       "        text-align: right;\n",
       "    }\n",
       "</style>\n",
       "<table border=\"1\" class=\"dataframe\">\n",
       "  <thead>\n",
       "    <tr style=\"text-align: right;\">\n",
       "      <th></th>\n",
       "      <th>db_id</th>\n",
       "      <th>query</th>\n",
       "      <th>question</th>\n",
       "      <th>query_toks</th>\n",
       "      <th>query_toks_no_value</th>\n",
       "      <th>question_toks</th>\n",
       "      <th>query_length</th>\n",
       "      <th>question_length</th>\n",
       "    </tr>\n",
       "  </thead>\n",
       "  <tbody>\n",
       "    <tr>\n",
       "      <th>0</th>\n",
       "      <td>department_management</td>\n",
       "      <td>SELECT count(*) FROM head WHERE age  &gt;  56</td>\n",
       "      <td>How many heads of the departments are older th...</td>\n",
       "      <td>[SELECT, count, (, *, ), FROM, head, WHERE, ag...</td>\n",
       "      <td>[select, count, (, *, ), from, head, where, ag...</td>\n",
       "      <td>[How, many, heads, of, the, departments, are, ...</td>\n",
       "      <td>8</td>\n",
       "      <td>11</td>\n",
       "    </tr>\n",
       "  </tbody>\n",
       "</table>\n",
       "</div>"
      ],
      "text/plain": [
       "                   db_id                                       query  \\\n",
       "0  department_management  SELECT count(*) FROM head WHERE age  >  56   \n",
       "\n",
       "                                            question  \\\n",
       "0  How many heads of the departments are older th...   \n",
       "\n",
       "                                          query_toks  \\\n",
       "0  [SELECT, count, (, *, ), FROM, head, WHERE, ag...   \n",
       "\n",
       "                                 query_toks_no_value  \\\n",
       "0  [select, count, (, *, ), from, head, where, ag...   \n",
       "\n",
       "                                       question_toks  query_length  \\\n",
       "0  [How, many, heads, of, the, departments, are, ...             8   \n",
       "\n",
       "   question_length  \n",
       "0               11  "
      ]
     },
     "execution_count": 14,
     "metadata": {},
     "output_type": "execute_result"
    }
   ],
   "source": [
    "df.head(1)"
   ]
  },
  {
   "cell_type": "code",
   "execution_count": 16,
   "id": "b21972d7",
   "metadata": {},
   "outputs": [
    {
     "name": "stdout",
     "output_type": "stream",
     "text": [
      "Missing values per column:\n",
      "db_id                  0\n",
      "query                  0\n",
      "question               0\n",
      "query_toks             0\n",
      "query_toks_no_value    0\n",
      "question_toks          0\n",
      "query_length           0\n",
      "question_length        0\n",
      "dtype: int64\n"
     ]
    }
   ],
   "source": [
    "print(\"Missing values per column:\")\n",
    "print(df.isna().sum())\n",
    "\n"
   ]
  },
  {
   "cell_type": "markdown",
   "id": "92405612",
   "metadata": {},
   "source": [
    "## Using the Local Spider Dataset\n",
    "\n",
    "The Spider dataset has now been downloaded locally in the `data/` folder.  \n",
    "We can load it from this location without re-downloading.\n"
   ]
  },
  {
   "cell_type": "markdown",
   "id": "67042257",
   "metadata": {},
   "source": [
    "# Dataset Overview\n",
    "\n",
    "### Number of Samples\n",
    "- **Training set:** 7,000  \n",
    "- **Validation set:** 1,034  \n",
    "\n",
    "### Missing Values\n",
    "- No missing values in either training or validation sets.\n",
    "\n",
    "### Unique Databases\n",
    "- **Training set:** 140  \n",
    "- **Validation set:** 20  \n",
    "\n",
    "### Validation Databases Not in Training Set\n",
    "- **Count:** 20  "
   ]
  },
  {
   "cell_type": "code",
   "execution_count": 22,
   "id": "55827023",
   "metadata": {},
   "outputs": [
    {
     "name": "stdout",
     "output_type": "stream",
     "text": [
      "Training data:\n",
      "                   db_id                                       query  \\\n",
      "0  department_management  SELECT count(*) FROM head WHERE age  >  56   \n",
      "\n",
      "                                            question  \\\n",
      "0  How many heads of the departments are older th...   \n",
      "\n",
      "                                          query_toks  \\\n",
      "0  [SELECT, count, (, *, ), FROM, head, WHERE, ag...   \n",
      "\n",
      "                                 query_toks_no_value  \\\n",
      "0  [select, count, (, *, ), from, head, where, ag...   \n",
      "\n",
      "                                       question_toks  \n",
      "0  [How, many, heads, of, the, departments, are, ...  \n",
      "Validation data:\n",
      "            db_id                        query                      question  \\\n",
      "0  concert_singer  SELECT count(*) FROM singer  How many singers do we have?   \n",
      "\n",
      "                               query_toks  \\\n",
      "0  [SELECT, count, (, *, ), FROM, singer]   \n",
      "\n",
      "                      query_toks_no_value  \\\n",
      "0  [select, count, (, *, ), from, singer]   \n",
      "\n",
      "                           question_toks  \n",
      "0  [How, many, singers, do, we, have, ?]  \n"
     ]
    }
   ],
   "source": [
    "import os\n",
    "DATA_DIR = os.path.join(\"data\")\n",
    "\n",
    "train_dataset = load_dataset(\"spider\", split=\"train\", cache_dir=DATA_DIR)\n",
    "val_dataset = load_dataset(\"spider\", split=\"validation\", cache_dir=DATA_DIR)\n",
    "\n",
    "# Convert to Pandas DataFrames for easier comparison\n",
    "df_train = pd.DataFrame(train_dataset)\n",
    "df_val = pd.DataFrame(val_dataset)\n",
    "\n",
    "# Quick look at each\n",
    "print(\"Training data:\")\n",
    "print(df_train.head(1))\n",
    "print(\"Validation data:\")\n",
    "print(df_val.head(1))\n",
    "\n"
   ]
  },
  {
   "cell_type": "code",
   "execution_count": 29,
   "id": "4740aea1",
   "metadata": {},
   "outputs": [
    {
     "name": "stdout",
     "output_type": "stream",
     "text": [
      "Number of training samples: 7000\n",
      "Number of validation samples: 1034\n",
      "Missing values per column:\n",
      "Train:\n",
      "db_id                  0\n",
      "query                  0\n",
      "question               0\n",
      "query_toks             0\n",
      "query_toks_no_value    0\n",
      "question_toks          0\n",
      "dtype: int64\n",
      "\n",
      "Validation:\n",
      "db_id                  0\n",
      "query                  0\n",
      "question               0\n",
      "query_toks             0\n",
      "query_toks_no_value    0\n",
      "question_toks          0\n",
      "dtype: int64\n"
     ]
    }
   ],
   "source": [
    "# Check sizes\n",
    "print(f\"Number of training samples: {len(df_train)}\")\n",
    "print(f\"Number of validation samples: {len(df_val)}\")\n",
    "\n",
    "print(\"Missing values per column:\")\n",
    "print(\"Train:\")\n",
    "print(df_train.isna().sum())\n",
    "print(\"\\nValidation:\")\n",
    "print(df_val.isna().sum())\n"
   ]
  },
  {
   "cell_type": "code",
   "execution_count": 26,
   "id": "1980db35",
   "metadata": {},
   "outputs": [
    {
     "name": "stdout",
     "output_type": "stream",
     "text": [
      "All training databases: ['department_management', 'farm', 'student_assessment', 'bike_1', 'book_2', 'musical', 'twitter_1', 'product_catalog', 'flight_1', 'allergy_1', 'store_1', 'journal_committee', 'customers_card_transactions', 'race_track', 'coffee_shop', 'chinook_1', 'insurance_fnol', 'medicine_enzyme_interaction', 'university_basketball', 'phone_1', 'match_season', 'climbing', 'body_builder', 'election_representative', 'apartment_rentals', 'game_injury', 'soccer_1', 'performance_attendance', 'college_2', 'debate', 'insurance_and_eClaims', 'customers_and_invoices', 'wedding', 'theme_gallery', 'epinions_1', 'riding_club', 'gymnast', 'small_bank_1', 'browser_web', 'wrestler', 'school_finance', 'protein_institute', 'cinema', 'products_for_hire', 'phone_market', 'gas_company', 'party_people', 'pilot_record', 'cre_Doc_Control_Systems', 'company_1', 'local_govt_in_alabama', 'formula_1', 'machine_repair', 'entrepreneur', 'perpetrator', 'csu_1', 'candidate_poll', 'movie_1', 'county_public_safety', 'inn_1', 'local_govt_mdm', 'party_host', 'storm_record', 'election', 'news_report', 'restaurant_1', 'customer_deliveries', 'icfp_1', 'sakila_1', 'loan_1', 'behavior_monitoring', 'assets_maintenance', 'station_weather', 'college_1', 'sports_competition', 'manufacturer', 'hr_1', 'music_1', 'baseball_1', 'mountain_photos', 'program_share', 'e_learning', 'insurance_policies', 'hospital_1', 'ship_mission', 'student_1', 'company_employee', 'film_rank', 'cre_Doc_Tracking_DB', 'club_1', 'tracking_grants_for_research', 'network_2', 'decoration_competition', 'document_management', 'company_office', 'solvency_ii', 'entertainment_awards', 'customers_campaigns_ecommerce', 'college_3', 'department_store', 'aircraft', 'local_govt_and_lot', 'school_player', 'store_product', 'soccer_2', 'device', 'cre_Drama_Workshop_Groups', 'music_2', 'manufactory_1', 'tracking_software_problems', 'shop_membership', 'voter_2', 'products_gen_characteristics', 'swimming', 'railway', 'customers_and_products_contacts', 'dorm_1', 'customer_complaints', 'workshop_paper', 'tracking_share_transactions', 'cre_Theme_park', 'game_1', 'customers_and_addresses', 'music_4', 'roller_coaster', 'ship_1', 'city_record', 'e_government', 'school_bus', 'flight_company', 'cre_Docs_and_Epenses', 'scientist_1', 'wine_1', 'train_station', 'driving_school', 'activity_1', 'flight_4', 'tracking_orders', 'architecture', 'culture_company']\n",
      "Databases in validation set: ['concert_singer', 'pets_1', 'car_1', 'flight_2', 'employee_hire_evaluation', 'cre_Doc_Template_Mgt', 'course_teach', 'museum_visit', 'wta_1', 'battle_death', 'student_transcripts_tracking', 'tvshow', 'poker_player', 'voter_1', 'world_1', 'orchestra', 'network_1', 'dog_kennels', 'singer', 'real_estate_properties']\n",
      "Number of unique databases in training: 140\n",
      "Number of unique databases in validation: 20\n"
     ]
    }
   ],
   "source": [
    "# Unique databases in train and validation\n",
    "train_dbs = df_train['db_id'].unique()\n",
    "val_dbs = df_val['db_id'].unique()\n",
    "\n",
    "print(\"All training databases:\", list(train_dbs))\n",
    "print(\"Databases in validation set:\", list(val_dbs))\n",
    "\n",
    "# Count of unique databases\n",
    "print(f\"Number of unique databases in training: {len(train_dbs)}\")\n",
    "print(f\"Number of unique databases in validation: {len(val_dbs)}\")\n"
   ]
  },
  {
   "cell_type": "code",
   "execution_count": 28,
   "id": "928b21bc",
   "metadata": {},
   "outputs": [
    {
     "name": "stdout",
     "output_type": "stream",
     "text": [
      "Number of validation databases not in training: 20\n",
      "These databases are: ['concert_singer', 'pets_1', 'car_1', 'flight_2', 'employee_hire_evaluation', 'cre_Doc_Template_Mgt', 'course_teach', 'museum_visit', 'wta_1', 'battle_death', 'student_transcripts_tracking', 'tvshow', 'poker_player', 'voter_1', 'world_1', 'orchestra', 'network_1', 'dog_kennels', 'singer', 'real_estate_properties']\n"
     ]
    }
   ],
   "source": [
    "# Databases in validation not in training\n",
    "val_not_in_train = [db for db in val_dbs if db not in train_dbs]\n",
    "\n",
    "print(\"Number of validation databases not in training:\", len(val_not_in_train))\n",
    "print(\"These databases are:\", val_not_in_train)\n"
   ]
  },
  {
   "cell_type": "code",
   "execution_count": 30,
   "id": "1be00f40",
   "metadata": {},
   "outputs": [
    {
     "name": "stdout",
     "output_type": "stream",
     "text": [
      "Phrase: How many heads of the departments are older than 56 ?\n",
      "Query: SELECT count(*) FROM head WHERE age  >  56\n"
     ]
    }
   ],
   "source": [
    "row = df_train.iloc[0]  \n",
    "phrase = row['question']\n",
    "query = row['query']\n",
    "\n",
    "print(\"Phrase:\", phrase)\n",
    "print(\"Query:\", query)"
   ]
  },
  {
   "cell_type": "code",
   "execution_count": null,
   "id": "ead802a5",
   "metadata": {},
   "outputs": [],
   "source": []
  }
 ],
 "metadata": {
  "kernelspec": {
   "display_name": "tp",
   "language": "python",
   "name": "python3"
  },
  "language_info": {
   "codemirror_mode": {
    "name": "ipython",
    "version": 3
   },
   "file_extension": ".py",
   "mimetype": "text/x-python",
   "name": "python",
   "nbconvert_exporter": "python",
   "pygments_lexer": "ipython3",
   "version": "3.9.19"
  }
 },
 "nbformat": 4,
 "nbformat_minor": 5
}
